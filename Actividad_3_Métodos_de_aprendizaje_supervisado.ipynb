{
  "nbformat": 4,
  "nbformat_minor": 0,
  "metadata": {
    "colab": {
      "provenance": [],
      "authorship_tag": "ABX9TyOXWyZWGi29mISyGNTugmMP",
      "include_colab_link": true
    },
    "kernelspec": {
      "name": "python3",
      "display_name": "Python 3"
    },
    "language_info": {
      "name": "python"
    }
  },
  "cells": [
    {
      "cell_type": "markdown",
      "metadata": {
        "id": "view-in-github",
        "colab_type": "text"
      },
      "source": [
        "<a href=\"https://colab.research.google.com/github/eleaz1/ActividadesIA/blob/main/Actividad_3_M%C3%A9todos_de_aprendizaje_supervisado.ipynb\" target=\"_parent\"><img src=\"https://colab.research.google.com/assets/colab-badge.svg\" alt=\"Open In Colab\"/></a>"
      ]
    },
    {
      "cell_type": "markdown",
      "source": [
        "\n",
        "Algoritmo creador de dase de datos para transporte masivo.\n"
      ],
      "metadata": {
        "id": "E1l7_K6u220e"
      }
    },
    {
      "cell_type": "code",
      "execution_count": 4,
      "metadata": {
        "id": "AL8cPvF61wpa"
      },
      "outputs": [],
      "source": [
        "import pandas as pd\n",
        "import random\n",
        "\n",
        "# Definir las rutas, días y condiciones meteorológicas posibles\n",
        "rutas = ['Ruta 1', 'Ruta 2', 'Ruta 3','Ruta 4','Ruta 5']\n",
        "dias = ['Lunes', 'Martes', 'Miércoles', 'Jueves', 'Viernes','Sábado', 'Domingo']\n",
        "clima = ['Soleado', 'Lluvioso', 'Nublado']\n",
        "\n",
        "# Crear una muestra aleatoria de datos simulados\n",
        "data = {\n",
        "    'Ruta': [random.choice(rutas) for _ in range(2000)],\n",
        "    'Dia': [random.choice(dias) for _ in range(2000)],\n",
        "    'Tiempo_recorrido_min': [random.randint(60, 300) for _ in range(2000)],\n",
        "    'Pasajeros': [random.randint(5, 50) for _ in range(2000)],\n",
        "    'Clima': [random.choice(clima) for _ in range(2000)]\n",
        "}\n",
        "\n",
        "df = pd.DataFrame(data)\n",
        "df.to_csv('datos_transporte.csv', index=False)\n"
      ]
    },
    {
      "cell_type": "markdown",
      "source": [
        "Identifique y describa fuentes de datos relacionadas con el proyecto del transporte masivo propuesto en las actividades anteriores, con el fin de desarrollar modelos de aprendizaje supervisado. En caso de no existir dichas fuentes de datos, desarrolle un dataset con una muestra de dichos datos.\n",
        "\n",
        "\n",
        "Desarrolle los comandos en Python necesarios para el desarrollo de modelo de aprendizaje automático basado en las fuentes de datos identificadas."
      ],
      "metadata": {
        "id": "ZRmlbMuN3BO6"
      }
    },
    {
      "cell_type": "markdown",
      "source": [
        "Vamos a utilizar un algoritmo simple como un Árbol de Decisión (Decision Tree) que se ajusta bien para datos categóricos como rutas y clima, y numéricos como tiempo de recorrido y número de pasajeros.\n",
        "\n",
        "Podemos predecir, por ejemplo, el tiempo de recorrido en función de las demás variables (rutas, días, clima, cantidad de pasajeros).\n",
        "\n",
        "Ejemplo de cómo entrenar un árbol de decisión:"
      ],
      "metadata": {
        "id": "jERZ7IFN3fVh"
      }
    },
    {
      "cell_type": "code",
      "source": [
        "from sklearn.model_selection import train_test_split, cross_val_score\n",
        "from sklearn.tree import DecisionTreeRegressor\n",
        "from sklearn.metrics import mean_absolute_error, mean_squared_error, r2_score\n",
        "import pandas as pd\n",
        "\n",
        "# Cargar datos\n",
        "df = pd.read_csv('datos_transporte.csv')\n",
        "\n",
        "# Preparación de datos\n",
        "X = df[['Ruta', 'Dia', 'Pasajeros', 'Clima']]\n",
        "y = df['Tiempo_recorrido_min']\n",
        "\n",
        "# Convertir variables categóricas a variables dummy\n",
        "X = pd.get_dummies(X)\n",
        "\n",
        "# Dividir el conjunto de datos en entrenamiento y prueba\n",
        "X_train, X_test, y_train, y_test = train_test_split(X, y, test_size=0.2, random_state=42)\n",
        "\n",
        "# Entrenar el modelo\n",
        "modelo = DecisionTreeRegressor(random_state=42)\n",
        "modelo.fit(X_train, y_train)\n",
        "\n",
        "# Realizar predicciones\n",
        "predicciones = modelo.predict(X_test)\n",
        "\n",
        "# Evaluar el modelo\n",
        "mae = mean_absolute_error(y_test, predicciones)\n",
        "mse = mean_squared_error(y_test, predicciones)\n",
        "rmse = mse ** 0.5\n",
        "r2 = r2_score(y_test, predicciones)\n",
        "\n",
        "print(f\"Error Medio Absoluto (MAE): {mae}\")\n",
        "print(f\"Error Cuadrático Medio (MSE): {mse}\")\n",
        "print(f\"Raíz del Error Cuadrático Medio (RMSE): {rmse}\")\n",
        "print(f\"Coeficiente de Determinación (R²): {r2}\")\n",
        "\n",
        "# Validación cruzada\n",
        "scores = cross_val_score(modelo, X, y, cv=5, scoring='neg_mean_absolute_error')\n",
        "mae_cv = -scores.mean()\n",
        "print(f\"MAE con validación cruzada: {mae_cv}\")"
      ],
      "metadata": {
        "colab": {
          "base_uri": "https://localhost:8080/"
        },
        "id": "LUw2Ephj3XpQ",
        "outputId": "211372b4-5aa3-48bb-8267-351aa2eec1c0"
      },
      "execution_count": 23,
      "outputs": [
        {
          "output_type": "stream",
          "name": "stdout",
          "text": [
            "Error Medio Absoluto (MAE): 80.19041666666668\n",
            "Error Cuadrático Medio (MSE): 9491.250902777778\n",
            "Raíz del Error Cuadrático Medio (RMSE): 97.4230511879903\n",
            "Coeficiente de Determinación (R²): -0.746107119964331\n",
            "MAE con validación cruzada: 79.96083333333334\n"
          ]
        }
      ]
    }
  ]
}